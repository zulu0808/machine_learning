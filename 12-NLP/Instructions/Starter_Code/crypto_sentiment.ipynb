{
 "cells": [
  {
   "cell_type": "markdown",
   "metadata": {},
   "source": [
    "# News Headlines Sentiment\n",
    "\n",
    "Use the news api to pull the latest news articles for bitcoin and ethereum and create a DataFrame of sentiment scores for each coin. \n",
    "\n",
    "Use descriptive statistics to answer the following questions:\n",
    "1. Which coin had the highest mean positive score?\n",
    "2. Which coin had the highest negative score?\n",
    "3. Which coin had the highest positive score?"
   ]
  },
  {
   "cell_type": "code",
   "execution_count": 418,
   "metadata": {},
   "outputs": [],
   "source": [
    "# Initial imports\n",
    "import os\n",
    "import pandas as pd\n",
    "from dotenv import load_dotenv\n",
    "load_dotenv()\n",
    "from newsapi.newsapi_client import NewsApiClient\n",
    "from nltk.sentiment.vader import SentimentIntensityAnalyzer\n",
    "analyzer = SentimentIntensityAnalyzer()\n",
    "%matplotlib inline"
   ]
  },
  {
   "cell_type": "code",
   "execution_count": 419,
   "metadata": {},
   "outputs": [],
   "source": [
    "# Read your api key environment variable\n",
    "# YOUR CODE HERE!\n",
    "api_key = os.getenv('news_api')"
   ]
  },
  {
   "cell_type": "code",
   "execution_count": 420,
   "metadata": {},
   "outputs": [],
   "source": [
    "# Create a newsapi client\n",
    "# YOUR CODE HERE!\n",
    "newsapi = NewsApiClient (api_key = api_key)"
   ]
  },
  {
   "cell_type": "code",
   "execution_count": 421,
   "metadata": {},
   "outputs": [],
   "source": [
    "# Fetch the Bitcoin news articles\n",
    "# YOUR CODE HERE!\n",
    "btc_news = newsapi.get_everything(\n",
    "    q=\"bitcoin\",\n",
    "    language=\"en\",\n",
    "    page_size=100,\n",
    "    sort_by=\"relevancy\"\n",
    ")"
   ]
  },
  {
   "cell_type": "code",
   "execution_count": 422,
   "metadata": {},
   "outputs": [],
   "source": [
    "# Fetch the Ethereum news articles\n",
    "# YOUR CODE HERE!\n",
    "eth_news = newsapi.get_everything(\n",
    "    q=\"ethereum\",\n",
    "    language=\"en\",\n",
    "    page_size=100,\n",
    "    sort_by=\"relevancy\"\n",
    ")"
   ]
  },
  {
   "cell_type": "code",
   "execution_count": 423,
   "metadata": {},
   "outputs": [],
   "source": [
    "# Create the Bitcoin sentiment scores DataFrame\n",
    "# YOUR CODE HERE!\n",
    "btc_sentiments = []\n",
    "\n",
    "for article in btc_news[\"articles\"]:\n",
    "    try:\n",
    "        text = article[\"content\"]\n",
    "        date = article[\"publishedAt\"][:10]\n",
    "        sentiment = analyzer.polarity_scores(text)\n",
    "        compound = sentiment[\"compound\"]\n",
    "        pos = sentiment[\"pos\"]\n",
    "        neu = sentiment[\"neu\"]\n",
    "        neg = sentiment[\"neg\"]\n",
    "        btc_sentiments.append({\n",
    "            \"text\": text,\n",
    "            \"date\": date,\n",
    "            \"compound\": compound,\n",
    "            \"positive\": pos,\n",
    "            \"negative\": neg,\n",
    "            \"neutral\": neu\n",
    "        })\n",
    "\n",
    "    except AttributeError:\n",
    "        pass"
   ]
  },
  {
   "cell_type": "code",
   "execution_count": 424,
   "metadata": {},
   "outputs": [
    {
     "output_type": "execute_result",
     "data": {
      "text/plain": [
       "                                                 text        date  compound  \\\n",
       "95  Ripples rough few days just got way worse. Aft...  2020-12-29   -0.5574   \n",
       "96  By Reuters Staff\\r\\nFILE PHOTO: A sign of Foxc...  2020-12-08    0.0000   \n",
       "97  By Reuters Staff\\r\\n(Reuters) - Coinbase Globa...  2020-12-17    0.2960   \n",
       "98  Hat tip to Rabobank for their description of y...  2020-12-02    0.7430   \n",
       "99  By Reuters Staff\\r\\nFILE PHOTO: A trader weari...  2020-12-15    0.0000   \n",
       "\n",
       "    positive  negative  neutral  \n",
       "95     0.035     0.124    0.842  \n",
       "96     0.000     0.000    1.000  \n",
       "97     0.064     0.000    0.936  \n",
       "98     0.178     0.000    0.822  \n",
       "99     0.000     0.000    1.000  "
      ],
      "text/html": "<div>\n<style scoped>\n    .dataframe tbody tr th:only-of-type {\n        vertical-align: middle;\n    }\n\n    .dataframe tbody tr th {\n        vertical-align: top;\n    }\n\n    .dataframe thead th {\n        text-align: right;\n    }\n</style>\n<table border=\"1\" class=\"dataframe\">\n  <thead>\n    <tr style=\"text-align: right;\">\n      <th></th>\n      <th>text</th>\n      <th>date</th>\n      <th>compound</th>\n      <th>positive</th>\n      <th>negative</th>\n      <th>neutral</th>\n    </tr>\n  </thead>\n  <tbody>\n    <tr>\n      <th>95</th>\n      <td>Ripples rough few days just got way worse. Aft...</td>\n      <td>2020-12-29</td>\n      <td>-0.5574</td>\n      <td>0.035</td>\n      <td>0.124</td>\n      <td>0.842</td>\n    </tr>\n    <tr>\n      <th>96</th>\n      <td>By Reuters Staff\\r\\nFILE PHOTO: A sign of Foxc...</td>\n      <td>2020-12-08</td>\n      <td>0.0000</td>\n      <td>0.000</td>\n      <td>0.000</td>\n      <td>1.000</td>\n    </tr>\n    <tr>\n      <th>97</th>\n      <td>By Reuters Staff\\r\\n(Reuters) - Coinbase Globa...</td>\n      <td>2020-12-17</td>\n      <td>0.2960</td>\n      <td>0.064</td>\n      <td>0.000</td>\n      <td>0.936</td>\n    </tr>\n    <tr>\n      <th>98</th>\n      <td>Hat tip to Rabobank for their description of y...</td>\n      <td>2020-12-02</td>\n      <td>0.7430</td>\n      <td>0.178</td>\n      <td>0.000</td>\n      <td>0.822</td>\n    </tr>\n    <tr>\n      <th>99</th>\n      <td>By Reuters Staff\\r\\nFILE PHOTO: A trader weari...</td>\n      <td>2020-12-15</td>\n      <td>0.0000</td>\n      <td>0.000</td>\n      <td>0.000</td>\n      <td>1.000</td>\n    </tr>\n  </tbody>\n</table>\n</div>"
     },
     "metadata": {},
     "execution_count": 424
    }
   ],
   "source": [
    "# Create Bitcoin DataFrame\n",
    "btc_df = pd.DataFrame(btc_sentiments)\n",
    "btc_df.tail()"
   ]
  },
  {
   "cell_type": "code",
   "execution_count": 425,
   "metadata": {},
   "outputs": [
    {
     "output_type": "execute_result",
     "data": {
      "text/plain": [
       "                                                text        date  compound  \\\n",
       "0  Visa has partnered with cryptocurrency startup...  2020-12-03    0.6369   \n",
       "1  After reaching a previous all-time high on Nov...  2020-12-16    0.6486   \n",
       "2  Its been almost three years to the day since t...  2020-12-16    0.4019   \n",
       "3  Everything is dumb until it works.\\r\\nAs 2020 ...  2020-12-17    0.2732   \n",
       "4  The government of India is considering an 18% ...  2020-12-29   -0.2924   \n",
       "\n",
       "   positive  negative  neutral  \n",
       "0     0.162     0.000    0.838  \n",
       "1     0.174     0.000    0.826  \n",
       "2     0.072     0.000    0.928  \n",
       "3     0.136     0.083    0.781  \n",
       "4     0.000     0.059    0.941  "
      ],
      "text/html": "<div>\n<style scoped>\n    .dataframe tbody tr th:only-of-type {\n        vertical-align: middle;\n    }\n\n    .dataframe tbody tr th {\n        vertical-align: top;\n    }\n\n    .dataframe thead th {\n        text-align: right;\n    }\n</style>\n<table border=\"1\" class=\"dataframe\">\n  <thead>\n    <tr style=\"text-align: right;\">\n      <th></th>\n      <th>text</th>\n      <th>date</th>\n      <th>compound</th>\n      <th>positive</th>\n      <th>negative</th>\n      <th>neutral</th>\n    </tr>\n  </thead>\n  <tbody>\n    <tr>\n      <th>0</th>\n      <td>Visa has partnered with cryptocurrency startup...</td>\n      <td>2020-12-03</td>\n      <td>0.6369</td>\n      <td>0.162</td>\n      <td>0.000</td>\n      <td>0.838</td>\n    </tr>\n    <tr>\n      <th>1</th>\n      <td>After reaching a previous all-time high on Nov...</td>\n      <td>2020-12-16</td>\n      <td>0.6486</td>\n      <td>0.174</td>\n      <td>0.000</td>\n      <td>0.826</td>\n    </tr>\n    <tr>\n      <th>2</th>\n      <td>Its been almost three years to the day since t...</td>\n      <td>2020-12-16</td>\n      <td>0.4019</td>\n      <td>0.072</td>\n      <td>0.000</td>\n      <td>0.928</td>\n    </tr>\n    <tr>\n      <th>3</th>\n      <td>Everything is dumb until it works.\\r\\nAs 2020 ...</td>\n      <td>2020-12-17</td>\n      <td>0.2732</td>\n      <td>0.136</td>\n      <td>0.083</td>\n      <td>0.781</td>\n    </tr>\n    <tr>\n      <th>4</th>\n      <td>The government of India is considering an 18% ...</td>\n      <td>2020-12-29</td>\n      <td>-0.2924</td>\n      <td>0.000</td>\n      <td>0.059</td>\n      <td>0.941</td>\n    </tr>\n  </tbody>\n</table>\n</div>"
     },
     "metadata": {},
     "execution_count": 425
    }
   ],
   "source": [
    "btc_df.head()"
   ]
  },
  {
   "cell_type": "code",
   "execution_count": 426,
   "metadata": {},
   "outputs": [
    {
     "output_type": "execute_result",
     "data": {
      "text/plain": [
       "   compound  negative  neutral  positive  \\\n",
       "0    0.6369     0.000    0.838     0.162   \n",
       "1    0.6486     0.000    0.826     0.174   \n",
       "2    0.4019     0.000    0.928     0.072   \n",
       "3    0.2732     0.083    0.781     0.136   \n",
       "4   -0.2924     0.059    0.941     0.000   \n",
       "\n",
       "                                                text  \n",
       "0  Visa has partnered with cryptocurrency startup...  \n",
       "1  After reaching a previous all-time high on Nov...  \n",
       "2  Its been almost three years to the day since t...  \n",
       "3  Everything is dumb until it works.\\r\\nAs 2020 ...  \n",
       "4  The government of India is considering an 18% ...  "
      ],
      "text/html": "<div>\n<style scoped>\n    .dataframe tbody tr th:only-of-type {\n        vertical-align: middle;\n    }\n\n    .dataframe tbody tr th {\n        vertical-align: top;\n    }\n\n    .dataframe thead th {\n        text-align: right;\n    }\n</style>\n<table border=\"1\" class=\"dataframe\">\n  <thead>\n    <tr style=\"text-align: right;\">\n      <th></th>\n      <th>compound</th>\n      <th>negative</th>\n      <th>neutral</th>\n      <th>positive</th>\n      <th>text</th>\n    </tr>\n  </thead>\n  <tbody>\n    <tr>\n      <th>0</th>\n      <td>0.6369</td>\n      <td>0.000</td>\n      <td>0.838</td>\n      <td>0.162</td>\n      <td>Visa has partnered with cryptocurrency startup...</td>\n    </tr>\n    <tr>\n      <th>1</th>\n      <td>0.6486</td>\n      <td>0.000</td>\n      <td>0.826</td>\n      <td>0.174</td>\n      <td>After reaching a previous all-time high on Nov...</td>\n    </tr>\n    <tr>\n      <th>2</th>\n      <td>0.4019</td>\n      <td>0.000</td>\n      <td>0.928</td>\n      <td>0.072</td>\n      <td>Its been almost three years to the day since t...</td>\n    </tr>\n    <tr>\n      <th>3</th>\n      <td>0.2732</td>\n      <td>0.083</td>\n      <td>0.781</td>\n      <td>0.136</td>\n      <td>Everything is dumb until it works.\\r\\nAs 2020 ...</td>\n    </tr>\n    <tr>\n      <th>4</th>\n      <td>-0.2924</td>\n      <td>0.059</td>\n      <td>0.941</td>\n      <td>0.000</td>\n      <td>The government of India is considering an 18% ...</td>\n    </tr>\n  </tbody>\n</table>\n</div>"
     },
     "metadata": {},
     "execution_count": 426
    }
   ],
   "source": [
    "# Reorder Bitcoin DataFrame columns\n",
    "cols = [\"compound\", \"negative\", \"neutral\", \"positive\", \"text\"]\n",
    "btc_df = btc_df[cols]\n",
    "btc_df.head()"
   ]
  },
  {
   "cell_type": "code",
   "execution_count": 427,
   "metadata": {},
   "outputs": [],
   "source": [
    "# Create the ethereum sentiment scores DataFrame\n",
    "# YOUR CODE HERE!\n",
    "eth_sentiments = []\n",
    "\n",
    "for article in eth_news[\"articles\"]:\n",
    "    try:\n",
    "        text = article[\"content\"]\n",
    "        date = article[\"publishedAt\"][:10]\n",
    "        sentiment = analyzer.polarity_scores(text)\n",
    "        compound = sentiment[\"compound\"]\n",
    "        pos = sentiment[\"pos\"]\n",
    "        neu = sentiment[\"neu\"]\n",
    "        neg = sentiment[\"neg\"]\n",
    "        eth_sentiments.append({\n",
    "            \"text\": text,\n",
    "            \"date\": date,\n",
    "            \"compound\": compound,\n",
    "            \"positive\": pos,\n",
    "            \"negative\": neg,\n",
    "            \"neutral\": neu\n",
    "        })\n",
    "\n",
    "    except AttributeError:\n",
    "        pass"
   ]
  },
  {
   "cell_type": "code",
   "execution_count": 428,
   "metadata": {},
   "outputs": [
    {
     "output_type": "execute_result",
     "data": {
      "text/plain": [
       "                                                text        date  compound  \\\n",
       "0  The Securities and Exchange Commission plans t...  2020-12-22    0.5267   \n",
       "1  Bitcoin was once derided by serious investors ...  2020-12-19    0.0772   \n",
       "2  FILE PHOTO: Representations of virtual currenc...  2020-12-16    0.0000   \n",
       "3  FILE PHOTO: A representation of virtual curren...  2020-12-16    0.0000   \n",
       "4  FILE PHOTO: Representations of virtual currenc...  2020-12-16    0.0000   \n",
       "\n",
       "   positive  negative  neutral  \n",
       "0     0.136     0.000    0.864  \n",
       "1     0.066     0.085    0.849  \n",
       "2     0.000     0.000    1.000  \n",
       "3     0.000     0.000    1.000  \n",
       "4     0.000     0.000    1.000  "
      ],
      "text/html": "<div>\n<style scoped>\n    .dataframe tbody tr th:only-of-type {\n        vertical-align: middle;\n    }\n\n    .dataframe tbody tr th {\n        vertical-align: top;\n    }\n\n    .dataframe thead th {\n        text-align: right;\n    }\n</style>\n<table border=\"1\" class=\"dataframe\">\n  <thead>\n    <tr style=\"text-align: right;\">\n      <th></th>\n      <th>text</th>\n      <th>date</th>\n      <th>compound</th>\n      <th>positive</th>\n      <th>negative</th>\n      <th>neutral</th>\n    </tr>\n  </thead>\n  <tbody>\n    <tr>\n      <th>0</th>\n      <td>The Securities and Exchange Commission plans t...</td>\n      <td>2020-12-22</td>\n      <td>0.5267</td>\n      <td>0.136</td>\n      <td>0.000</td>\n      <td>0.864</td>\n    </tr>\n    <tr>\n      <th>1</th>\n      <td>Bitcoin was once derided by serious investors ...</td>\n      <td>2020-12-19</td>\n      <td>0.0772</td>\n      <td>0.066</td>\n      <td>0.085</td>\n      <td>0.849</td>\n    </tr>\n    <tr>\n      <th>2</th>\n      <td>FILE PHOTO: Representations of virtual currenc...</td>\n      <td>2020-12-16</td>\n      <td>0.0000</td>\n      <td>0.000</td>\n      <td>0.000</td>\n      <td>1.000</td>\n    </tr>\n    <tr>\n      <th>3</th>\n      <td>FILE PHOTO: A representation of virtual curren...</td>\n      <td>2020-12-16</td>\n      <td>0.0000</td>\n      <td>0.000</td>\n      <td>0.000</td>\n      <td>1.000</td>\n    </tr>\n    <tr>\n      <th>4</th>\n      <td>FILE PHOTO: Representations of virtual currenc...</td>\n      <td>2020-12-16</td>\n      <td>0.0000</td>\n      <td>0.000</td>\n      <td>0.000</td>\n      <td>1.000</td>\n    </tr>\n  </tbody>\n</table>\n</div>"
     },
     "metadata": {},
     "execution_count": 428
    }
   ],
   "source": [
    "# Create Ethereum DataFrame\n",
    "eth_df = pd.DataFrame(eth_sentiments)\n",
    "eth_df.head()"
   ]
  },
  {
   "cell_type": "code",
   "execution_count": 429,
   "metadata": {},
   "outputs": [
    {
     "output_type": "execute_result",
     "data": {
      "text/plain": [
       "   compound  negative  neutral  positive  \\\n",
       "0    0.5267     0.000    0.864     0.136   \n",
       "1    0.0772     0.085    0.849     0.066   \n",
       "2    0.0000     0.000    1.000     0.000   \n",
       "3    0.0000     0.000    1.000     0.000   \n",
       "4    0.0000     0.000    1.000     0.000   \n",
       "\n",
       "                                                text  \n",
       "0  The Securities and Exchange Commission plans t...  \n",
       "1  Bitcoin was once derided by serious investors ...  \n",
       "2  FILE PHOTO: Representations of virtual currenc...  \n",
       "3  FILE PHOTO: A representation of virtual curren...  \n",
       "4  FILE PHOTO: Representations of virtual currenc...  "
      ],
      "text/html": "<div>\n<style scoped>\n    .dataframe tbody tr th:only-of-type {\n        vertical-align: middle;\n    }\n\n    .dataframe tbody tr th {\n        vertical-align: top;\n    }\n\n    .dataframe thead th {\n        text-align: right;\n    }\n</style>\n<table border=\"1\" class=\"dataframe\">\n  <thead>\n    <tr style=\"text-align: right;\">\n      <th></th>\n      <th>compound</th>\n      <th>negative</th>\n      <th>neutral</th>\n      <th>positive</th>\n      <th>text</th>\n    </tr>\n  </thead>\n  <tbody>\n    <tr>\n      <th>0</th>\n      <td>0.5267</td>\n      <td>0.000</td>\n      <td>0.864</td>\n      <td>0.136</td>\n      <td>The Securities and Exchange Commission plans t...</td>\n    </tr>\n    <tr>\n      <th>1</th>\n      <td>0.0772</td>\n      <td>0.085</td>\n      <td>0.849</td>\n      <td>0.066</td>\n      <td>Bitcoin was once derided by serious investors ...</td>\n    </tr>\n    <tr>\n      <th>2</th>\n      <td>0.0000</td>\n      <td>0.000</td>\n      <td>1.000</td>\n      <td>0.000</td>\n      <td>FILE PHOTO: Representations of virtual currenc...</td>\n    </tr>\n    <tr>\n      <th>3</th>\n      <td>0.0000</td>\n      <td>0.000</td>\n      <td>1.000</td>\n      <td>0.000</td>\n      <td>FILE PHOTO: A representation of virtual curren...</td>\n    </tr>\n    <tr>\n      <th>4</th>\n      <td>0.0000</td>\n      <td>0.000</td>\n      <td>1.000</td>\n      <td>0.000</td>\n      <td>FILE PHOTO: Representations of virtual currenc...</td>\n    </tr>\n  </tbody>\n</table>\n</div>"
     },
     "metadata": {},
     "execution_count": 429
    }
   ],
   "source": [
    "# Reorder Ethereum DataFrame columns\n",
    "cols = [\"compound\", \"negative\", \"neutral\", \"positive\", \"text\"]\n",
    "eth_df = eth_df[cols]\n",
    "eth_df.head()"
   ]
  },
  {
   "cell_type": "code",
   "execution_count": 430,
   "metadata": {},
   "outputs": [
    {
     "output_type": "execute_result",
     "data": {
      "text/plain": [
       "         compound    negative     neutral    positive\n",
       "count  100.000000  100.000000  100.000000  100.000000\n",
       "mean     0.120697    0.022530    0.927760    0.049720\n",
       "std      0.341145    0.051284    0.074283    0.058137\n",
       "min     -0.946800    0.000000    0.637000    0.000000\n",
       "25%      0.000000    0.000000    0.868500    0.000000\n",
       "50%      0.000000    0.000000    0.938500    0.036500\n",
       "75%      0.368875    0.000000    1.000000    0.088750\n",
       "max      0.801600    0.363000    1.000000    0.209000"
      ],
      "text/html": "<div>\n<style scoped>\n    .dataframe tbody tr th:only-of-type {\n        vertical-align: middle;\n    }\n\n    .dataframe tbody tr th {\n        vertical-align: top;\n    }\n\n    .dataframe thead th {\n        text-align: right;\n    }\n</style>\n<table border=\"1\" class=\"dataframe\">\n  <thead>\n    <tr style=\"text-align: right;\">\n      <th></th>\n      <th>compound</th>\n      <th>negative</th>\n      <th>neutral</th>\n      <th>positive</th>\n    </tr>\n  </thead>\n  <tbody>\n    <tr>\n      <th>count</th>\n      <td>100.000000</td>\n      <td>100.000000</td>\n      <td>100.000000</td>\n      <td>100.000000</td>\n    </tr>\n    <tr>\n      <th>mean</th>\n      <td>0.120697</td>\n      <td>0.022530</td>\n      <td>0.927760</td>\n      <td>0.049720</td>\n    </tr>\n    <tr>\n      <th>std</th>\n      <td>0.341145</td>\n      <td>0.051284</td>\n      <td>0.074283</td>\n      <td>0.058137</td>\n    </tr>\n    <tr>\n      <th>min</th>\n      <td>-0.946800</td>\n      <td>0.000000</td>\n      <td>0.637000</td>\n      <td>0.000000</td>\n    </tr>\n    <tr>\n      <th>25%</th>\n      <td>0.000000</td>\n      <td>0.000000</td>\n      <td>0.868500</td>\n      <td>0.000000</td>\n    </tr>\n    <tr>\n      <th>50%</th>\n      <td>0.000000</td>\n      <td>0.000000</td>\n      <td>0.938500</td>\n      <td>0.036500</td>\n    </tr>\n    <tr>\n      <th>75%</th>\n      <td>0.368875</td>\n      <td>0.000000</td>\n      <td>1.000000</td>\n      <td>0.088750</td>\n    </tr>\n    <tr>\n      <th>max</th>\n      <td>0.801600</td>\n      <td>0.363000</td>\n      <td>1.000000</td>\n      <td>0.209000</td>\n    </tr>\n  </tbody>\n</table>\n</div>"
     },
     "metadata": {},
     "execution_count": 430
    }
   ],
   "source": [
    "# Describe the Bitcoin Sentiment\n",
    "# YOUR CODE HERE!\n",
    "btc_df.describe()"
   ]
  },
  {
   "cell_type": "code",
   "execution_count": 431,
   "metadata": {},
   "outputs": [
    {
     "output_type": "execute_result",
     "data": {
      "text/plain": [
       "        compound   negative    neutral   positive\n",
       "count  94.000000  94.000000  94.000000  94.000000\n",
       "mean    0.233443   0.024734   0.894745   0.080521\n",
       "std     0.341135   0.044595   0.088672   0.074175\n",
       "min    -0.779200   0.000000   0.691000   0.000000\n",
       "25%     0.000000   0.000000   0.837750   0.000000\n",
       "50%     0.283800   0.000000   0.912000   0.071000\n",
       "75%     0.457150   0.047750   0.990500   0.131000\n",
       "max     0.877900   0.239000   1.000000   0.278000"
      ],
      "text/html": "<div>\n<style scoped>\n    .dataframe tbody tr th:only-of-type {\n        vertical-align: middle;\n    }\n\n    .dataframe tbody tr th {\n        vertical-align: top;\n    }\n\n    .dataframe thead th {\n        text-align: right;\n    }\n</style>\n<table border=\"1\" class=\"dataframe\">\n  <thead>\n    <tr style=\"text-align: right;\">\n      <th></th>\n      <th>compound</th>\n      <th>negative</th>\n      <th>neutral</th>\n      <th>positive</th>\n    </tr>\n  </thead>\n  <tbody>\n    <tr>\n      <th>count</th>\n      <td>94.000000</td>\n      <td>94.000000</td>\n      <td>94.000000</td>\n      <td>94.000000</td>\n    </tr>\n    <tr>\n      <th>mean</th>\n      <td>0.233443</td>\n      <td>0.024734</td>\n      <td>0.894745</td>\n      <td>0.080521</td>\n    </tr>\n    <tr>\n      <th>std</th>\n      <td>0.341135</td>\n      <td>0.044595</td>\n      <td>0.088672</td>\n      <td>0.074175</td>\n    </tr>\n    <tr>\n      <th>min</th>\n      <td>-0.779200</td>\n      <td>0.000000</td>\n      <td>0.691000</td>\n      <td>0.000000</td>\n    </tr>\n    <tr>\n      <th>25%</th>\n      <td>0.000000</td>\n      <td>0.000000</td>\n      <td>0.837750</td>\n      <td>0.000000</td>\n    </tr>\n    <tr>\n      <th>50%</th>\n      <td>0.283800</td>\n      <td>0.000000</td>\n      <td>0.912000</td>\n      <td>0.071000</td>\n    </tr>\n    <tr>\n      <th>75%</th>\n      <td>0.457150</td>\n      <td>0.047750</td>\n      <td>0.990500</td>\n      <td>0.131000</td>\n    </tr>\n    <tr>\n      <th>max</th>\n      <td>0.877900</td>\n      <td>0.239000</td>\n      <td>1.000000</td>\n      <td>0.278000</td>\n    </tr>\n  </tbody>\n</table>\n</div>"
     },
     "metadata": {},
     "execution_count": 431
    }
   ],
   "source": [
    "# Describe the Ethereum Sentiment\n",
    "# YOUR CODE HERE!\n",
    "eth_df.describe()"
   ]
  },
  {
   "cell_type": "markdown",
   "metadata": {},
   "source": [
    "### Questions:\n",
    "\n",
    "Q: Which coin had the highest mean positive score?\n",
    "\n",
    "A: \n",
    "\n",
    "Q: Which coin had the highest compound score?\n",
    "\n",
    "A: \n",
    "\n",
    "Q. Which coin had the highest positive score?\n",
    "\n",
    "A: "
   ]
  },
  {
   "cell_type": "markdown",
   "metadata": {},
   "source": [
    "---"
   ]
  },
  {
   "cell_type": "markdown",
   "metadata": {},
   "source": [
    "# Tokenizer\n",
    "\n",
    "In this section, you will use NLTK and Python to tokenize the text for each coin. Be sure to:\n",
    "1. Lowercase each word\n",
    "2. Remove Punctuation\n",
    "3. Remove Stopwords"
   ]
  },
  {
   "cell_type": "code",
   "execution_count": 432,
   "metadata": {},
   "outputs": [],
   "source": [
    "import nltk\n",
    "from nltk.tokenize import word_tokenize, sent_tokenize\n",
    "from nltk.corpus import stopwords\n",
    "stop_words = set(stopwords.words(\"english\"))\n",
    "from nltk.stem.porter import PorterStemmer\n",
    "from nltk.stem import WordNetLemmatizer\n",
    "wn = WordNetLemmatizer ()\n",
    "from string import punctuation\n",
    "import re"
   ]
  },
  {
   "cell_type": "code",
   "execution_count": 433,
   "metadata": {},
   "outputs": [
    {
     "output_type": "stream",
     "name": "stderr",
     "text": [
      "[nltk_data] Downloading package stopwords to\n[nltk_data]     C:\\Users\\pvolc\\AppData\\Roaming\\nltk_data...\n[nltk_data]   Package stopwords is already up-to-date!\n"
     ]
    },
    {
     "output_type": "execute_result",
     "data": {
      "text/plain": [
       "True"
      ]
     },
     "metadata": {},
     "execution_count": 433
    }
   ],
   "source": [
    "# Expand the default stopwords list if necessary\n",
    "nltk.download(\"stopwords\")"
   ]
  },
  {
   "cell_type": "code",
   "execution_count": 434,
   "metadata": {},
   "outputs": [],
   "source": [
    "# Complete the tokenizer function for bitcoin/Convert the words to lowercase/Remove the punctuation/Remove the stop words\n",
    "corpus_btc = []\n",
    "for i in range (0, 100):\n",
    "    text = re.sub(\"[^a-zA-Z]\", \" \", btc_df[\"text\"] [i])\n",
    "    text = text.lower()\n",
    "    text = text.split()\n",
    "    ps = PorterStemmer()\n",
    "    text = [ps.stem (word) for word in text if not word in stop_words]\n",
    "    text = [wn.lemmatize (word) for word in text]\n",
    "    text = \" \".join (text)\n",
    "    corpus_btc.append (text)"
   ]
  },
  {
   "cell_type": "code",
   "execution_count": 435,
   "metadata": {},
   "outputs": [],
   "source": [
    "tokens = corpus_btc"
   ]
  },
  {
   "cell_type": "code",
   "execution_count": 436,
   "metadata": {},
   "outputs": [
    {
     "output_type": "stream",
     "name": "stdout",
     "text": [
      "['visa partner cryptocurr startup blockfi offer first reward credit card pay bitcoin rather cash worth appli unless your extrem bullish char', 'reach previou time high novemb th decemb st bitcoin trade well surpass previou peak price bitcoin valu rapidli char', 'almost three year day sinc price bitcoin close break ceil came crash wednesday arbitrari mileston hodler dream final char', 'everyth dumb work come close cryptocurr world experienc anoth late year surg consum interest price climb valu bitcoin char', 'govern india consid tax bitcoin transact accord new report time india clear whether propos good servic tax gst would char', 'secur exchang commiss plan sue rippl feder civil court sell unregist secur accord news releas publish onlin cryptocurr compani late char', 'unlik convent cryptocurr central bank control digit yuan case peopl bank china move give countri power theori stabil freq char', 'imag copyrightgetti imag bitcoin hit new time high break volatil virtual currenc gain year amid stock market turmoil char', 'six year launch mexico base crypotcurr exchang financi servic platform bitso compani reveal close million financ capit crypto char', 'decentr exchang protocol allow crypto trader investor trade across differ blockhain develop signific new develop come la char', 'u market end novemb larg gain even small declin today amp p jump percent novemb best monthli show sinc april fourth best month char', 'illustr grayson blackmon verg one wildest stori year day follow twitter account planet post cryptocurr scam char', 'poster particip price one bitcoin rose wednesday new time record cap year gain world valuabl cryptocurr valu b char', 'reuter staff file photo represent bitcoin u dollar banknot seen illustr taken januari reuter dado ruvic file photo london reuter bitcoin smash char', 'reuter staff file photo represent virtual currenc bitcoin seen front stock graph illustr taken novemb reuter dado ruvic illustr london reu char', 'busi news fergal smith maiya keidan toronto reuter canadian fund manag revamp portfolio pick cyclic stock could benefit return typic econom char', 'post bitcoin grab headlin week ascent time high yet trend play could chang face cryptocurr market massiv flow coin char', 'post comprehens wealth manag presid john vento tell reuter fred katayama onu bitcoin investor keep record everi transact tax report purpos also pr char', 'reuter staff file photo represent virtual currenc bitcoin place u dollar banknot illustr taken may reuter dado ruvic illustr london reuter char', 'reuter staff file photo represent virtual currenc bitcoin place u dollar banknot illustr taken may reuter dado ruvic illustr london reuter char', 'reuter staff file photo represent virtual currenc bitcoin seen pictur illustr taken taken march reuter dado ruvic london new york reuter bitcoin jum char', 'hacker releas email address associ custom popular hardwar base cryptocurr wallet ledger leak allegedli stem compani hack last jul char', 'file photo represent virtual currenc bitcoin seen front stock graph illustr taken novemb reuter dado ruvic reuter bitcoin still volatil char', 'file photo represent virtual currenc bitcoin seen front stock graph illustr taken novemb reuter dado ruvic reuter bitcoin still volatil char', 'file photo represent virtual currenc bitcoin seen front stock graph illustr taken novemb reuter dado ruvic reuter bitcoin still volatil char', 'file photo represent virtual currenc bitcoin seen pictur illustr taken taken march reuter dado ruvic illustr london reuter major u cryptocurr char', 'reuter staff file photo represent virtual currenc bitcoin place u dollar banknot illustr taken may reuter dado ruvic illustr london reuter char', 'file photo represent virtual currenc bitcoin seen illustr taken novemb reuter dado ruvic illustr london reuter bitcoin drop much mon char', 'file photo represent virtual currenc bitcoin seen front stock graph illustr taken novemb reuter dado ruvic illustr london reuter major u char', 'file photo represent virtual currenc bitcoin seen pictur illustr taken taken march reuter dado ruvic illustr london reuter major u cryptocurr char', 'reuter staff file photo represent virtual currenc bitcoin seen front stock graph illustr taken novemb reuter dado ruvic illustr london reu char', 'reuter staff file photo dec charlott north carolina usa carolina panther offens tackl russel okung field game bank america stadium mandatori char', 'reuter staff london nov reuter bitcoin jump past monday move closer time record sharp tumbl last week check ralli last char', 'reuter staff file photo represent virtual currenc bitcoin seen pictur illustr taken taken march reuter dado ruvic london reuter bitcoin jump past char', 'reuter staff file photo represent virtual currenc bitcoin seen pictur illustr taken taken march reuter dado ruvic london reuter bitcoin jump past char', 'decemb american author retir politician ron paul join stephan livera podcast episod discus cryptocurr bitcoin great length interview th char', 'reuter staff reuter cryptocurr startup blockfi said tuesday would partner visa inc evolv bank credit card firm deserv offer credit card let user earn bitco char', 'reuter staff file photo represent virtual currenc bitcoin seen illustr taken novemb reuter dado ruvic illustr file photo london reuter bitcoin char', 'brenton tarrant anti muslim terrorist kill peopl two attack christchurch new zealand abus steroid donat money far right websit youtub personalit char', 'new york reuter total investor inflow cryptocurr fund product hit billion far year accord latest data asset manag coin char', 'bitcoin possibl fashion invest past decad appreci valu anyth shi one billion percent depend start figur ov char', 'price bitcoin increas last four week price bitcoin crash upward quip cnn busi digit currenc market valu north billion char', 'decemb min read opinion express entrepreneur contributor bitcoin reach new time high novemb entrepreneur start wonderi char', 'london hong kong reuter bitcoin grab headlin week dizzi ascent time high yet radar trend play could chang face char', 'post comprehens wealth manag presid john vento tell reuter fred katayama onu bitcoin investor keep record everi transact tax report purpos also pr char', 'holli johnson busi insid ul li anthoni scaramucci skybridg capit launch bitcoin fund invest million capit go live outsid investor li li char', 'london hong kong reuter bitcoin grab headlin week dizzi ascent time high yet radar trend play could chang face char', 'reuter staff file photo represent rippl bitcoin etherum litecoin virtual currenc seen pc motherboard illustr pictur februari reuter dad char', 'london reuter british fund manag ruffer invest manag shift around million client fortun bitcoin investor memo seen reuter show one larg char', 'reuter staff file photo represent virtual currenc bitcoin seen front stock graph illustr taken novemb reuter dado ruvic illustr london reu char', 'reuter elon musk sunday ask possibl convert larg transact tesla inc balanc sheet bitcoin accord twitter exchang musk well known ad char', 'post bitcoin trade record high call altern invest consid well yieldstreet co founder michael weisz told reuter busi correspond char', 'reuter staff file photo represent virtual currenc bitcoin seen front stock graph illustr taken novemb reuter dado ruvic illustr london reu char', 'reuter staff london dec reuter bitcoin set fresh time high thursday rise almost gmt day smash mileston fir char', 'file photo exchang rate logo bitcoin bth ether eth litecoin ltc bitcoin cash bch seen display cryptocurr atm blockchain payment servic provid va char', 'london reuter amp p dow jone indic divis financi data provid amp p global inc said thursday launch cryptocurr indic make latest major char', 'bitcoin btc broke set new time high wednesday around three year previou price record almost cue ralli sent major cryptocurr exchang coinbas temporarili char', 'ul li elon musk tweet raci photo sunday suggest tempt bitcoin li li elicit respons crypto booster michael saylor suggest musk convert tesla balan char', 'ul li winklevoss twin pitch larg purchas bitcoin today trade centuri predict digit currenc soar time recent real vision interview li l char', 'decemb min read articl translat spanish edit use ai technolog error may exist due process opinion express entrepreneur contributor char', 'reuter staff file photo represent bitcoin u dollar banknot seen illustr taken januari reuter dado ruvic reuter cryptocurr firm paxo said char', 'bitcoin soar hit new record price friday investor declar happi bitma social medium known lead cryptocurr bitcoin surp char', 'price bitcoin steadili increas institut investor ad portfolio hedg fiat currenc devalu pm pt price bitcoi char', 'price bitcoin reach today beat record sinc drop price surg attribut influx asian specul follow char', 'bitcoin derid seriou investor bubbl ponzi scheme year becom irresist invest mani wednesday bitcoin top fo char', 'decemb min read articl translat spanish edit use ai technolog error may exist due process yesterday wednesday bitcoin surpass char', 'bitcoin almost b fiat money elon musk tweet sunday follow anoth tweet one word doge tweet sent share dogecoin nearli land th char', 'reuter staff file photo exchang rate logo bitcoin bth ether eth litecoin ltc bitcoin cash bch seen display cryptocurr atm blockchain payment char', 'new york reuter institut investor pump million cryptocurr fund product week end dec second highest record push sector asset manag char', 'new york reuter institut investor pump million cryptocurr fund product week end dec second highest record push sector asset manag char', 'decemb min read articl translat spanish edit use ai technolog error may exist due process mark cuban american billionair businessman char', 'decemb min read opinion express entrepreneur contributor offici fintech age shift digit payment acceler amid pand char', 'reuter dado ruvic ul li jpmorgan strategist said tuesday gold suffer long term institut investor adopt bitcoin li li strategist note la char', 'employe count u dollar bill money exchang offic central cairo egypt march reuter moham abd el ghani new york reuter breakingview money like law use b char', 'post bitcoin soar record high dollar monday ralli steam ahead boost increas demand institut retail investor saw virtual c char', 'post bitcoin soar record high dollar monday ralli steam ahead boost increas demand institut retail investor saw virtual c char', 'toronto reuter canadian fund manag revamp portfolio pick cyclic stock could benefit return typic economi come year covid vaccin char', 'new zealand dollar set reach two year high commod link currenc gain v u dollar canadian dollar shi two year high graphic world fx rate tmsnrt r r char', 'fix typo euro price th paragraph euro nz dollar hit highest year sterl rise three month high u bipartisan stimulu propos sink greenback char', 'london reuter world stock scale new peak oil march higher thursday investor lap riski asset hope u fiscal stimulu feder reserv pledg keep pump char', 'hello welcom back equiti techcrunch ventur capit focus podcast twitter unpack number behind headlin first time donkey year hav char', 'reuter staff file photo represent rippl bitcoin etherum litecoin virtual currenc seen pc motherboard illustr pictur februari reuter dad char', 'reuter staff file photo represent rippl bitcoin etherum litecoin virtual currenc seen pc motherboard illustr pictur februari reuter dad char', 'sourc stackcommerc price bitcoin max might thought cryptocurr bubbl burst fact still mani digit currenc gain valu complet cr char', 'visa paypal diem formerli known libra look capit rapidli grow industri visa eye cryptocurr space insid intellig ul li visa newest cred char', 'decemb min read opinion express entrepreneur contributor day ago newli elect u senat cynthia lummi endors bitcoin live televis spoke char', 'xrp lowest sinc juli coinbas suspend trade jan connect firm rippl charg unregist secur offer add detail context updat price london char', 'reuter staff file photo man walk past new york stock exchang manhattan borough new york citi two day u presidenti elect new york u novemb char', 'one day upload rubygem discov remov two malici packag design steal cryptocurr unsuspect user instal clipboard hijack rep char', 'militari base outsid caraca venezuela state video footag show offic green fatigu cut blue ribbon don cluster glossi balloon men pri open door n char', 'wettest weather least year boost product hydro electr plant leav sweden norway lowest power price world result glut imp char', 'seen bitcoin forgiven thing mind year involv digit dollar might time give littl attent char', 'facebook partner plan launch diem new global cryptocurr getti imag libra cryptocurr spearhead facebook got new name tuesday move design reinforc char', 'major cryptocurr platform coinbas confidenti file ipo paperwork secur exchang commiss compani announc thursday offici set process go publi char', 'tl dr learn cryptocurr invest thecomplet cryptocurr profession trade bundl sale dec go get cryptocurr sh char', 'rippl rough day got way wors fintech compani subject sec lawsuit flagship xrp token last week coinbas announc tuesday blog post trade char', 'reuter staff file photo sign foxconn seen insid offic build taipei taiwan novemb reuter ann wang hong kong reuter appl supplier foxconn said tuesday char', 'reuter staff reuter coinbas global inc confidenti appli u secur exchang commiss go public compani said thursday make first major u char', 'hat tip rabobank descript yesterday session tide comfort joy file photo small shop basket fill vial label covid coronaviru vaccin med char', 'reuter staff file photo trader wear mask react close bell first day person trade sinc closur outbreak coronaviru diseas covid char']\n"
     ]
    }
   ],
   "source": [
    "# Create a list of the words\n",
    "print (tokens)"
   ]
  },
  {
   "cell_type": "code",
   "execution_count": 437,
   "metadata": {},
   "outputs": [
    {
     "output_type": "execute_result",
     "data": {
      "text/plain": [
       "   compound  negative  neutral  positive  \\\n",
       "0    0.6369     0.000    0.838     0.162   \n",
       "1    0.6486     0.000    0.826     0.174   \n",
       "2    0.4019     0.000    0.928     0.072   \n",
       "3    0.2732     0.083    0.781     0.136   \n",
       "4   -0.2924     0.059    0.941     0.000   \n",
       "\n",
       "                                                text  \\\n",
       "0  Visa has partnered with cryptocurrency startup...   \n",
       "1  After reaching a previous all-time high on Nov...   \n",
       "2  Its been almost three years to the day since t...   \n",
       "3  Everything is dumb until it works.\\r\\nAs 2020 ...   \n",
       "4  The government of India is considering an 18% ...   \n",
       "\n",
       "                                              tokens  \n",
       "0  visa partner cryptocurr startup blockfi offer ...  \n",
       "1  reach previou time high novemb th decemb st bi...  \n",
       "2  almost three year day sinc price bitcoin close...  \n",
       "3  everyth dumb work come close cryptocurr world ...  \n",
       "4  govern india consid tax bitcoin transact accor...  "
      ],
      "text/html": "<div>\n<style scoped>\n    .dataframe tbody tr th:only-of-type {\n        vertical-align: middle;\n    }\n\n    .dataframe tbody tr th {\n        vertical-align: top;\n    }\n\n    .dataframe thead th {\n        text-align: right;\n    }\n</style>\n<table border=\"1\" class=\"dataframe\">\n  <thead>\n    <tr style=\"text-align: right;\">\n      <th></th>\n      <th>compound</th>\n      <th>negative</th>\n      <th>neutral</th>\n      <th>positive</th>\n      <th>text</th>\n      <th>tokens</th>\n    </tr>\n  </thead>\n  <tbody>\n    <tr>\n      <th>0</th>\n      <td>0.6369</td>\n      <td>0.000</td>\n      <td>0.838</td>\n      <td>0.162</td>\n      <td>Visa has partnered with cryptocurrency startup...</td>\n      <td>visa partner cryptocurr startup blockfi offer ...</td>\n    </tr>\n    <tr>\n      <th>1</th>\n      <td>0.6486</td>\n      <td>0.000</td>\n      <td>0.826</td>\n      <td>0.174</td>\n      <td>After reaching a previous all-time high on Nov...</td>\n      <td>reach previou time high novemb th decemb st bi...</td>\n    </tr>\n    <tr>\n      <th>2</th>\n      <td>0.4019</td>\n      <td>0.000</td>\n      <td>0.928</td>\n      <td>0.072</td>\n      <td>Its been almost three years to the day since t...</td>\n      <td>almost three year day sinc price bitcoin close...</td>\n    </tr>\n    <tr>\n      <th>3</th>\n      <td>0.2732</td>\n      <td>0.083</td>\n      <td>0.781</td>\n      <td>0.136</td>\n      <td>Everything is dumb until it works.\\r\\nAs 2020 ...</td>\n      <td>everyth dumb work come close cryptocurr world ...</td>\n    </tr>\n    <tr>\n      <th>4</th>\n      <td>-0.2924</td>\n      <td>0.059</td>\n      <td>0.941</td>\n      <td>0.000</td>\n      <td>The government of India is considering an 18% ...</td>\n      <td>govern india consid tax bitcoin transact accor...</td>\n    </tr>\n  </tbody>\n</table>\n</div>"
     },
     "metadata": {},
     "execution_count": 437
    }
   ],
   "source": [
    "# Create a new tokens column for bitcoin\n",
    "btc_df [\"tokens\"] = tokens\n",
    "btc_df.head()"
   ]
  },
  {
   "cell_type": "code",
   "execution_count": 438,
   "metadata": {},
   "outputs": [],
   "source": [
    "# Complete the tokenizer function for ethereum/Convert the words to lowercase/Remove the punctuation/Remove the stop words\n",
    "corpus_eth = []\n",
    "for i in range (0, 94):\n",
    "    text = re.sub(\"[^a-zA-Z]\", \" \", eth_df[\"text\"] [i])\n",
    "    text = text.lower()\n",
    "    text = text.split()\n",
    "    ps = PorterStemmer()\n",
    "    text = [ps.stem (word) for word in text if not word in stop_words]\n",
    "    text = [wn.lemmatize (word) for word in text]\n",
    "    text = \" \".join (text)\n",
    "    corpus_eth.append (text)"
   ]
  },
  {
   "cell_type": "code",
   "execution_count": 439,
   "metadata": {},
   "outputs": [],
   "source": [
    "tokens_eth = corpus_eth"
   ]
  },
  {
   "cell_type": "code",
   "execution_count": 440,
   "metadata": {},
   "outputs": [
    {
     "output_type": "stream",
     "name": "stdout",
     "text": [
      "['secur exchang commiss plan sue rippl feder civil court sell unregist secur accord news releas publish onlin cryptocurr compani late char', 'bitcoin derid seriou investor bubbl ponzi scheme year becom irresist invest mani wednesday bitcoin top fo char', 'file photo represent virtual currenc bitcoin seen pictur illustr taken taken march reuter dado ruvic illustr london reuter major u cryptocurr char', 'file photo represent virtual currenc bitcoin seen front stock graph illustr taken novemb reuter dado ruvic illustr london reuter major u char', 'file photo represent virtual currenc bitcoin seen pictur illustr taken taken march reuter dado ruvic illustr london reuter major u cryptocurr char', 'new york reuter total investor inflow cryptocurr fund product hit billion far year accord latest data asset manag coin char', 'new york reuter institut investor pump million cryptocurr fund product week end dec second highest record push sector asset manag char', 'new york reuter institut investor pump million cryptocurr fund product week end dec second highest record push sector asset manag char', 'decemb min read opinion express entrepreneur contributor day ago newli elect u senat cynthia lummi endors bitcoin live televis spoke char', 'decentr exchang protocol allow crypto trader investor trade across differ blockhain develop signific new develop come la char', 'ethereum one lead crypto project second bitcoin decemb ethereum releas first stage ethereum biggest differ need expensiv char', 'reuter staff file photo represent virtual currenc bitcoin seen illustr taken novemb reuter dado ruvic illustr file photo london reuter bitcoin char', 'reuter staff file photo represent virtual currenc bitcoin place u dollar banknot illustr taken may reuter dado ruvic illustr london reuter char', 'file photo represent virtual currenc bitcoin seen illustr taken novemb reuter dado ruvic illustr london reuter bitcoin drop much mon char', 'new york reuter outsiz bet larg u technolog compani emerg cryptocurr fuel year top perform u mutual fund exchang trade fund coronaviru pand char', 'sourc stackcommerc price bitcoin max might thought cryptocurr bubbl burst fact still mani digit currenc gain valu complet cr char', 'one day upload rubygem discov remov two malici packag design steal cryptocurr unsuspect user instal clipboard hijack rep char', 'new york reuter outsiz bet larg u technolog compani emerg cryptocurr fuel year top perform u mutual fund exchang trade fund coronaviru pand char', 'brief ul li user sent link token worth smart contract support li li result fund get irrevers stuck defi game aavegotc char', 'decemb min read articl translat spanish edit use ai technolog error may exist due process yesterday wednesday bitcoin surpass char', 'gala game blockchain game startup creat zynga cofound eric schiermey cut littl notic interest promot deal week brave maker privaci focus b char', 'buy bitcoin appl pay thank new integr multi currenc crypto wallet app lumi also buy eth bch tether usdt binanc usd celsiu dai eo tha char', 'bitcoin top angela lang cnet bitcoin continu meteor rise first time ever hit price dec p pt cryptocurr clock char', 'outset everyon understand cryptocurr fundament differ stock stock intrins valu repres real piec physic busi short term char', 'sourc stackcommerc price bitcoin max might thought cryptocurr bubbl burst fact still mani digit currenc gain valu complet cr char', 'lead cryptocurr bitcoin get headlin late one ralli ethereum eth second largest cryptocurr also per char', 'happen share grayscal ethereum trust otc eth fund design allow tradit investor invest non tradit asset known ether get crush today char', 'could say lil yachti quit bit endeavor year outsid rap career besid creat jingl rees puff bring show public figur hbo max char', 'lil yachti expand career want part rapper newli releas cryptocurr yachtycoin make possibl fan becom sharehold career char', 'twa penultim night christma network everi machin stir even smallest raspberri pi busi stock market mani restauran char', 'ethereum mani fundament catalyst could push valu upward short term eth strength decentr financ defi market high decentr exchang dex usag char', 'visa inc headquart foster citi california u nov two year work visa open network usdc digit dollar creat circl internet financi char', 'bitcoin ethereum rippl xrp litecoin chainlinkf biggest cryptocurr valuehav bounc back sell week bitcoin price climb per bitcoin char', 'bitcoin incred doubl price sinc begin yearwith predict continu climb bitcoin price recent soar char', 'worker use handheld clean tool clean applic specif integr circuit asic devic power unit mount rack insid bitriv ru llc cryptocurr mine farm char', 'caneth pool caneth pool smartest way stake ether decentrsikedbhereum poot skake po bockchain netaork request infa decentr ethereum latdt wi proof stake po network char', 'bitcoin broken fresh ground week climb per bitcoin first time ever grab global attent three year bitcoin boom subsequ bust char', 'bitcoin charg decemb hit someth brick wallstop short wide consid fresh territori north per bitcoin bitcoin price ad char', 'bitcoin continu huge decemb ralli last day climb total valu around half trillion dollar billion bitcoin price break per bitcoin char', 'one ethereum popular softwar wallet myetherwallet join crypto busi give user access ethereum stake partnership node host servic stake char', 'genesi block ventur gbv announc acquisit omg network help speed transact lower fee ethereum blockchain handl transact chain trigger doubl char', 'proof work algorithm secur mani cryptocurr includ bitcoin ethereum digit currenc central entiti leader keep track everi user much mon char', 'true annu horribilu readi better time u equiti strategi team goldman sach led david kostin see better time ahead near term team pred char', 'everi year sinc ive made predict next year bring industri pay attent increment chang occur year year realiz everyth char', 'except volatil year equiti due unpreced uncertainti creat coronaviru pandem nevertheless probabl go larg posit year inv char', 'salvat armi western territori accept bitcoin ethereum donat across u ul li announc thursday chariti partner cryptocurr give platform engiven char', 'true tribe fashion brand creat cloth discard fish net plastic detritu world ocean gone live first garment track blockchain char', 'despit excit enthusiasm ethereum commun mani peopl dont yet fulli understand signific opportun second largest blockchain larg institut char', 'kraken announc help fund open sourc ethereum project first u base cryptocurr exchang blog post thursday kraken said collabor gitcoin char', 'bitcoin struggl make gain expect low volum weekend could push price meanwhil increas number activ ethereum address year testament netw char', 'decentr exchang uniswap number one ga burner ethereum respons close transact initi network last hour sinc earli char', 'big year blockchain highlight eth rise fall resurrect decentr financ defi real step toward adopt institut like paypal char', 'ethereum founder vitalik buterin took twitter warn follow take person loan purchas cryptocurr ul li monday buterin share post twitter warn follow char', 'there one thing wall street hate uncertainti covid pandem presidenti elect plenti uncertainti go around surpris mani char', 'rippl xrp third biggest cryptocurr valu bitcoin ethereum soar last month xrp token own compani rippl doubl char', 'shard propos method split infrastructur ethereum smaller piec goal scale platform support mani user current ether char', 'ethereum hit major mileston beacon chain went live libra seiz day rebrand diem googl search bitcoin doubl sinc last month coinbas lt gt micro char', 'welcom anoth edit valid point foxley give weekli updat statu ongo develop ethereum well soon incorpor data directli coin char', 'bitcoin price hung around thursday moment spot volum day brand name defi protocol lion share market lock crypto ul li bitcoin btc char', 'u govern intend argu ethereum develop virgil griffith help north korean better understand crypto could use bypass financi sanction nation griffith wh char', 'past week record bitcoin volum price dip lower volum meanwhil novemb dip ether asset lock defi least partial attribut ethereum net char', 'aliv welcom everyon first issu valid point today commemor histor launch ethereum mark begin ethereum live transform p char', 'final kind ethereum develop sinc barack obama live white hous nail import mileston date complet phase lau char', 'three week launch ethereum close tripl initi deposit threshold eth deposit made increment eth repres stake activ soon ac char', 'ethereum classic etc undergon hard fork usher new upgrad aim increas miner particip increas secur accord etc explor blockscout around char', 'human protocol backbon anti bot system hcaptcha announc thursday expand beyond ethereum futur polkadot parachain moonbeam move also prepar addit char', 'ethereum mine competit got bit hotter even second largest blockchain market cap begun formal process get rid depend industri togeth sh char', 'decentr exchang dex aggreg inch issu govern token user inch mooniswap dex found exec get reward christma gift sort char', 'singl year stake gone academ exercis domin forc crypto biggest stake stori cours launch ethereum beyond pa char', 'sometim follow leader make best invest strategi corpor insid long popular leader follow combin respons stockhold access char', 'digit asset manag grayscal invest pas anoth mileston reach billion asset manag dec first time ul li data tweet firm show char', 'amazon manag blockchain support ethereum preview ethereum popular decentr blockchain platform establish peer peer network allow particip transact without char', 'jay clayton chairman u secur exchang commiss sec wear protect mask speak hous financi servic subcommitte hear washington c char', 'presid donald trump bizarr habit compar abraham lincoln ronald reagan probabl much better exampl understand trump rise power ha char', 'bitcoin first stop investor year grow number peopl pay attent ethereum right michael sonnenshein manag director g char', 'new crypto institut investor recent buy bitcoin digit gold narr might look around next big thing long anticip arriv char', 'secret network privaci focus blockchain launch ethereum bridg let asset transfer ethereum secret network privat bridg essenti offer int char', 'analyt blockchain graph live ethereum mainnet accord develop team project thursday launch follow three year work includ testnet central mainn char', 'grayscal invest announc wednesday share grayscal ethereum trust eth split move increas liquid perceiv afford share ul char', 'last week congresswoman squad member rashida tlaib mich sent crypto twitter tizzi follow propos bill academ think tank propon follow post suc char', 'new crypto institut investor recent buy bitcoin digit gold narr might look around next big thing long anticip arriva char', 'seren knock first stage next gener proof stake po ethereum live utc tuesday accord beaconcha gener blockchain decentr char', 'bitcoin possibl fashion invest past decad appreci valu anyth shi one billion percent depend start figur ov char', 'sourc compani websit hive blockchain technolog ltd otcqx hvbtf tear last month soar time period consolid octob novemb char', 'singapor fund blockchain r amp germani second largest stock exchang crypto app saw billion trade volum year grayscal see grow number ethereum first char', 'oracl send data outsid world daili temperatur number vote polit candid receiv blockchain ethereum smart contract blockchai char', 'data blockchain analysi firm glassnod indic decentr financ defi may take huge bite central financ cefi come ether ul li amount fee char', 'happen mani compani close tie cryptocurr market saw share price plung wednesday promin victim today cryptocurr tension char', 'ethereum ethereum slid wednesday revers gain tuesday ethereum end day mix start day saw ethereum rise earli morn intraday high char', 'bitcoin fallen sharpli last hour move away key per bitcoin level bitcoin price lost matter hour cryptocurr trad char', 'proof work algorithm secur mani cryptocurr includ bitcoin ethereum digit currenc central entiti leader keep track everi user much mon char', 'despit excit enthusiasm ethereum commun mani peopl yet fulli understand signific opportun second largest blockchain larg institut char', 'ethereum ethereum fell sunday revers gain saturday ethereum end week bullish start day saw ethereum rise late morn intrad char', 'bitcoin higher fall two day xrp fall amid warn sec may sue rippl coindesk market daili back anoth crypto news roundup episod sponsor cr char']\n"
     ]
    }
   ],
   "source": [
    "print (tokens_eth)"
   ]
  },
  {
   "cell_type": "code",
   "execution_count": 463,
   "metadata": {},
   "outputs": [
    {
     "output_type": "execute_result",
     "data": {
      "text/plain": [
       "   compound  negative  neutral  positive  \\\n",
       "0    0.5267     0.000    0.864     0.136   \n",
       "1    0.0772     0.085    0.849     0.066   \n",
       "2    0.0000     0.000    1.000     0.000   \n",
       "3    0.0000     0.000    1.000     0.000   \n",
       "4    0.0000     0.000    1.000     0.000   \n",
       "\n",
       "                                                text  \\\n",
       "0  The Securities and Exchange Commission plans t...   \n",
       "1  Bitcoin was once derided by serious investors ...   \n",
       "2  FILE PHOTO: Representations of virtual currenc...   \n",
       "3  FILE PHOTO: A representation of virtual curren...   \n",
       "4  FILE PHOTO: Representations of virtual currenc...   \n",
       "\n",
       "                                              tokens  \n",
       "0  secur exchang commiss plan sue rippl feder civ...  \n",
       "1  bitcoin derid seriou investor bubbl ponzi sche...  \n",
       "2  file photo represent virtual currenc bitcoin s...  \n",
       "3  file photo represent virtual currenc bitcoin s...  \n",
       "4  file photo represent virtual currenc bitcoin s...  "
      ],
      "text/html": "<div>\n<style scoped>\n    .dataframe tbody tr th:only-of-type {\n        vertical-align: middle;\n    }\n\n    .dataframe tbody tr th {\n        vertical-align: top;\n    }\n\n    .dataframe thead th {\n        text-align: right;\n    }\n</style>\n<table border=\"1\" class=\"dataframe\">\n  <thead>\n    <tr style=\"text-align: right;\">\n      <th></th>\n      <th>compound</th>\n      <th>negative</th>\n      <th>neutral</th>\n      <th>positive</th>\n      <th>text</th>\n      <th>tokens</th>\n    </tr>\n  </thead>\n  <tbody>\n    <tr>\n      <th>0</th>\n      <td>0.5267</td>\n      <td>0.000</td>\n      <td>0.864</td>\n      <td>0.136</td>\n      <td>The Securities and Exchange Commission plans t...</td>\n      <td>secur exchang commiss plan sue rippl feder civ...</td>\n    </tr>\n    <tr>\n      <th>1</th>\n      <td>0.0772</td>\n      <td>0.085</td>\n      <td>0.849</td>\n      <td>0.066</td>\n      <td>Bitcoin was once derided by serious investors ...</td>\n      <td>bitcoin derid seriou investor bubbl ponzi sche...</td>\n    </tr>\n    <tr>\n      <th>2</th>\n      <td>0.0000</td>\n      <td>0.000</td>\n      <td>1.000</td>\n      <td>0.000</td>\n      <td>FILE PHOTO: Representations of virtual currenc...</td>\n      <td>file photo represent virtual currenc bitcoin s...</td>\n    </tr>\n    <tr>\n      <th>3</th>\n      <td>0.0000</td>\n      <td>0.000</td>\n      <td>1.000</td>\n      <td>0.000</td>\n      <td>FILE PHOTO: A representation of virtual curren...</td>\n      <td>file photo represent virtual currenc bitcoin s...</td>\n    </tr>\n    <tr>\n      <th>4</th>\n      <td>0.0000</td>\n      <td>0.000</td>\n      <td>1.000</td>\n      <td>0.000</td>\n      <td>FILE PHOTO: Representations of virtual currenc...</td>\n      <td>file photo represent virtual currenc bitcoin s...</td>\n    </tr>\n  </tbody>\n</table>\n</div>"
     },
     "metadata": {},
     "execution_count": 463
    }
   ],
   "source": [
    "# Create a new tokens column for ethereum\n",
    "eth_df [\"tokens\"] = tokens_eth\n",
    "eth_df.head()"
   ]
  },
  {
   "cell_type": "markdown",
   "metadata": {},
   "source": [
    "---"
   ]
  },
  {
   "cell_type": "markdown",
   "metadata": {},
   "source": [
    "# NGrams and Frequency Analysis\n",
    "\n",
    "In this section you will look at the ngrams and word frequency for each coin. \n",
    "\n",
    "1. Use NLTK to produce the n-grams for N = 2. \n",
    "2. List the top 10 words for each coin. "
   ]
  },
  {
   "cell_type": "code",
   "execution_count": 464,
   "metadata": {},
   "outputs": [],
   "source": [
    "from collections import Counter\n",
    "from nltk import ngrams"
   ]
  },
  {
   "cell_type": "code",
   "execution_count": 468,
   "metadata": {},
   "outputs": [
    {
     "output_type": "error",
     "ename": "TypeError",
     "evalue": "'list' object is not callable",
     "traceback": [
      "\u001b[1;31m---------------------------------------------------------------------------\u001b[0m",
      "\u001b[1;31mTypeError\u001b[0m                                 Traceback (most recent call last)",
      "\u001b[1;32m<ipython-input-468-21a4898a2186>\u001b[0m in \u001b[0;36m<module>\u001b[1;34m\u001b[0m\n\u001b[1;32m----> 1\u001b[1;33m \u001b[0mprocessed\u001b[0m \u001b[1;33m=\u001b[0m \u001b[0mcorpus_btc\u001b[0m\u001b[1;33m(\u001b[0m\u001b[0mtokens\u001b[0m\u001b[1;33m)\u001b[0m\u001b[1;33m\u001b[0m\u001b[1;33m\u001b[0m\u001b[0m\n\u001b[0m\u001b[0;32m      2\u001b[0m \u001b[0mprint\u001b[0m\u001b[1;33m(\u001b[0m\u001b[0mprocessed\u001b[0m\u001b[1;33m)\u001b[0m\u001b[1;33m\u001b[0m\u001b[1;33m\u001b[0m\u001b[0m\n",
      "\u001b[1;31mTypeError\u001b[0m: 'list' object is not callable"
     ]
    }
   ],
   "source": [
    "processed = corpus_btc(tokens)\n",
    "print(processed)"
   ]
  },
  {
   "cell_type": "code",
   "execution_count": 465,
   "metadata": {},
   "outputs": [
    {
     "output_type": "error",
     "ename": "NameError",
     "evalue": "name 'processed' is not defined",
     "traceback": [
      "\u001b[1;31m---------------------------------------------------------------------------\u001b[0m",
      "\u001b[1;31mNameError\u001b[0m                                 Traceback (most recent call last)",
      "\u001b[1;32m<ipython-input-465-b12f5b40edda>\u001b[0m in \u001b[0;36m<module>\u001b[1;34m\u001b[0m\n\u001b[0;32m      1\u001b[0m \u001b[1;31m# Generate the Bitcoin N-grams where N=2\u001b[0m\u001b[1;33m\u001b[0m\u001b[1;33m\u001b[0m\u001b[1;33m\u001b[0m\u001b[0m\n\u001b[0;32m      2\u001b[0m \u001b[1;31m# YOUR CODE HERE!\u001b[0m\u001b[1;33m\u001b[0m\u001b[1;33m\u001b[0m\u001b[1;33m\u001b[0m\u001b[0m\n\u001b[1;32m----> 3\u001b[1;33m \u001b[0mbigram_counts\u001b[0m \u001b[1;33m=\u001b[0m \u001b[0mCounter\u001b[0m\u001b[1;33m(\u001b[0m\u001b[0mngrams\u001b[0m\u001b[1;33m(\u001b[0m\u001b[0mprocessed\u001b[0m\u001b[1;33m,\u001b[0m \u001b[0mn\u001b[0m\u001b[1;33m=\u001b[0m\u001b[1;36m2\u001b[0m\u001b[1;33m)\u001b[0m\u001b[1;33m)\u001b[0m\u001b[1;33m\u001b[0m\u001b[1;33m\u001b[0m\u001b[0m\n\u001b[0m\u001b[0;32m      4\u001b[0m \u001b[0mprint\u001b[0m\u001b[1;33m(\u001b[0m\u001b[0mdict\u001b[0m\u001b[1;33m(\u001b[0m\u001b[0mbigram_counts\u001b[0m\u001b[1;33m)\u001b[0m\u001b[1;33m)\u001b[0m\u001b[1;33m\u001b[0m\u001b[1;33m\u001b[0m\u001b[0m\n",
      "\u001b[1;31mNameError\u001b[0m: name 'processed' is not defined"
     ]
    }
   ],
   "source": [
    "# Generate the Bitcoin N-grams where N=2\n",
    "# YOUR CODE HERE!\n",
    "bigram_counts = Counter(ngrams(processed, n=2))\n",
    "print(dict(bigram_counts))"
   ]
  },
  {
   "cell_type": "code",
   "execution_count": 444,
   "metadata": {},
   "outputs": [],
   "source": [
    "# Generate the Ethereum N-grams where N=2\n",
    "# YOUR CODE HERE!"
   ]
  },
  {
   "cell_type": "code",
   "execution_count": 445,
   "metadata": {},
   "outputs": [],
   "source": [
    "# Use the token_count function to generate the top 10 words from each coin\n",
    "def token_count(tokens, N=10):\n",
    "    \"\"\"Returns the top N tokens from the frequency count\"\"\"\n",
    "    return Counter(tokens).most_common(N)"
   ]
  },
  {
   "cell_type": "code",
   "execution_count": 446,
   "metadata": {},
   "outputs": [],
   "source": [
    "# Get the top 10 words for Bitcoin\n",
    "# YOUR CODE HERE!"
   ]
  },
  {
   "cell_type": "code",
   "execution_count": 447,
   "metadata": {},
   "outputs": [],
   "source": [
    "# Get the top 10 words for Ethereum\n",
    "# YOUR CODE HERE!"
   ]
  },
  {
   "cell_type": "markdown",
   "metadata": {},
   "source": [
    "# Word Clouds\n",
    "\n",
    "In this section, you will generate word clouds for each coin to summarize the news for each coin"
   ]
  },
  {
   "cell_type": "code",
   "execution_count": 448,
   "metadata": {},
   "outputs": [],
   "source": [
    "from wordcloud import WordCloud\n",
    "import matplotlib.pyplot as plt\n",
    "plt.style.use('seaborn-whitegrid')\n",
    "import matplotlib as mpl\n",
    "mpl.rcParams['figure.figsize'] = [20.0, 10.0]"
   ]
  },
  {
   "cell_type": "code",
   "execution_count": 449,
   "metadata": {},
   "outputs": [],
   "source": [
    "# Generate the Bitcoin word cloud\n",
    "# YOUR CODE HERE!"
   ]
  },
  {
   "cell_type": "code",
   "execution_count": 450,
   "metadata": {},
   "outputs": [],
   "source": [
    "# Generate the Ethereum word cloud\n",
    "# YOUR CODE HERE!"
   ]
  },
  {
   "cell_type": "markdown",
   "metadata": {},
   "source": [
    "# Named Entity Recognition\n",
    "\n",
    "In this section, you will build a named entity recognition model for both coins and visualize the tags using SpaCy."
   ]
  },
  {
   "cell_type": "code",
   "execution_count": 451,
   "metadata": {},
   "outputs": [],
   "source": [
    "import spacy\n",
    "from spacy import displacy"
   ]
  },
  {
   "cell_type": "code",
   "execution_count": 452,
   "metadata": {},
   "outputs": [],
   "source": [
    "# Optional - download a language model for SpaCy\n",
    "# !python -m spacy download en_core_web_sm"
   ]
  },
  {
   "cell_type": "code",
   "execution_count": 453,
   "metadata": {},
   "outputs": [],
   "source": [
    "# Load the spaCy model\n",
    "nlp = spacy.load('en_core_web_sm')"
   ]
  },
  {
   "cell_type": "markdown",
   "metadata": {},
   "source": [
    "## Bitcoin NER"
   ]
  },
  {
   "cell_type": "code",
   "execution_count": 454,
   "metadata": {},
   "outputs": [],
   "source": [
    "# Concatenate all of the bitcoin text together\n",
    "# YOUR CODE HERE!"
   ]
  },
  {
   "cell_type": "code",
   "execution_count": 455,
   "metadata": {},
   "outputs": [],
   "source": [
    "# Run the NER processor on all of the text\n",
    "# YOUR CODE HERE!\n",
    "\n",
    "# Add a title to the document\n",
    "# YOUR CODE HERE!"
   ]
  },
  {
   "cell_type": "code",
   "execution_count": 456,
   "metadata": {},
   "outputs": [],
   "source": [
    "# Render the visualization\n",
    "# YOUR CODE HERE!"
   ]
  },
  {
   "cell_type": "code",
   "execution_count": 457,
   "metadata": {},
   "outputs": [],
   "source": [
    "# List all Entities\n",
    "# YOUR CODE HERE!"
   ]
  },
  {
   "cell_type": "markdown",
   "metadata": {},
   "source": [
    "---"
   ]
  },
  {
   "cell_type": "markdown",
   "metadata": {},
   "source": [
    "## Ethereum NER"
   ]
  },
  {
   "cell_type": "code",
   "execution_count": 458,
   "metadata": {},
   "outputs": [],
   "source": [
    "# Concatenate all of the bitcoin text together\n",
    "# YOUR CODE HERE!"
   ]
  },
  {
   "cell_type": "code",
   "execution_count": 459,
   "metadata": {},
   "outputs": [],
   "source": [
    "# Run the NER processor on all of the text\n",
    "# YOUR CODE HERE!\n",
    "\n",
    "# Add a title to the document\n",
    "# YOUR CODE HERE!"
   ]
  },
  {
   "cell_type": "code",
   "execution_count": 460,
   "metadata": {},
   "outputs": [],
   "source": [
    "# Render the visualization\n",
    "# YOUR CODE HERE!"
   ]
  },
  {
   "cell_type": "code",
   "execution_count": 461,
   "metadata": {},
   "outputs": [],
   "source": [
    "# List all Entities\n",
    "# YOUR CODE HERE!"
   ]
  }
 ],
 "metadata": {
  "file_extension": ".py",
  "kernelspec": {
   "display_name": "Python 3",
   "language": "python",
   "name": "python3"
  },
  "language_info": {
   "codemirror_mode": {
    "name": "ipython",
    "version": 3
   },
   "file_extension": ".py",
   "mimetype": "text/x-python",
   "name": "python",
   "nbconvert_exporter": "python",
   "pygments_lexer": "ipython3",
   "version": "3.8.3-final"
  },
  "mimetype": "text/x-python",
  "name": "python",
  "npconvert_exporter": "python",
  "pygments_lexer": "ipython3",
  "version": 3
 },
 "nbformat": 4,
 "nbformat_minor": 4
}